{
  "cells": [
    {
      "cell_type": "markdown",
      "metadata": {
        "id": "view-in-github",
        "colab_type": "text"
      },
      "source": [
        "<a href=\"https://colab.research.google.com/github/Tejas21-netize/EDSgithub.io/blob/main/202401030002_CodeTantra.ipynb\" target=\"_parent\"><img src=\"https://colab.research.google.com/assets/colab-badge.svg\" alt=\"Open In Colab\"/></a>"
      ]
    },
    {
      "cell_type": "markdown",
      "metadata": {
        "id": "Kx7gN9tDO5yv"
      },
      "source": [
        "Practical 1\n",
        "Lab Assignment:1"
      ]
    },
    {
      "cell_type": "code",
      "execution_count": null,
      "metadata": {
        "colab": {
          "base_uri": "https://localhost:8080/"
        },
        "id": "2C__3_5oI8Ks",
        "outputId": "ce31958a-74e1-40bc-efa3-726f8ec938c8"
      },
      "outputs": [
        {
          "name": "stdout",
          "output_type": "stream",
          "text": [
            "55\n",
            "69\n",
            "3795.00kgm/s\n"
          ]
        }
      ],
      "source": [
        "m = float (input())\n",
        "v = float(input())\n",
        "p = m*v\n",
        "print('%.2f'%p,end='')\n",
        "print(\"kgm/s\")"
      ]
    },
    {
      "cell_type": "code",
      "execution_count": null,
      "metadata": {
        "colab": {
          "base_uri": "https://localhost:8080/"
        },
        "id": "IOus9P2RJfNU",
        "outputId": "afff0c10-a55d-4241-a33f-4ec5ac67c706"
      },
      "outputs": [
        {
          "name": "stdout",
          "output_type": "stream",
          "text": [
            "55\n",
            "7.42\n"
          ]
        }
      ],
      "source": [
        "n = int(input())\n",
        "\n",
        "if 1<=n<=9:\n",
        "\tprint(n**2)\n",
        "elif 10<=n<=99:\n",
        "\tprint(f\"{n**(1/2):.2f}\")\n",
        "elif 100<=n<=999:\n",
        "\tprint(f\"{n**(1/3):.2f}\")\n",
        "else:\n",
        "\tprint(\"Invalid\")"
      ]
    },
    {
      "cell_type": "code",
      "execution_count": null,
      "metadata": {
        "colab": {
          "base_uri": "https://localhost:8080/"
        },
        "id": "XC3YBNpcJnnP",
        "outputId": "98dc8c9c-1751-4838-eac2-b0131f6ad429"
      },
      "outputs": [
        {
          "name": "stdout",
          "output_type": "stream",
          "text": [
            "15-06-1991\n",
            "4000\n",
            "Age: 33\n",
            "Salary in dollars: 48.00\n"
          ]
        }
      ],
      "source": [
        "# import the required package\n",
        "from datetime import datetime\n",
        "def calculate_age(birthdate):\n",
        "\tdate_object  = datetime.strptime(birthdate,\"%d-%m-%Y\")\n",
        "\ttoday = datetime.today()\n",
        "\tage = today.year - date_object.year-((today.month,today.day)<(date_object.month,date_object.day))\n",
        "\treturn age\n",
        "\n",
        "\n",
        "\n",
        "def convert_salary_to_dollars(salary_in_rupees):\n",
        "\t# write your code here\n",
        "\tsalary = salary_in_rupees*0.012\n",
        "\treturn salary\n",
        "\n",
        "birthdate = input()\n",
        "salary_in_rupees = float(input())\n",
        "age = calculate_age(birthdate)\n",
        "salary_in_dollars = convert_salary_to_dollars(salary_in_rupees)\n",
        "print(f\"Age: {age}\")\n",
        "print(f\"Salary in dollars: {salary_in_dollars:.2f}\")"
      ]
    },
    {
      "cell_type": "code",
      "execution_count": null,
      "metadata": {
        "colab": {
          "base_uri": "https://localhost:8080/"
        },
        "id": "-88Wo5QbJzKE",
        "outputId": "7b552702-a141-4e03-ae1c-331d1d08891e"
      },
      "outputs": [
        {
          "name": "stdout",
          "output_type": "stream",
          "text": [
            "5236\n",
            "6325\n"
          ]
        }
      ],
      "source": [
        "n = int(input())\n",
        "num = str(n)\n",
        "print(num[ : :-1])\n"
      ]
    },
    {
      "cell_type": "code",
      "execution_count": null,
      "metadata": {
        "colab": {
          "base_uri": "https://localhost:8080/"
        },
        "id": "tmSJa7rqKBVq",
        "outputId": "63463b0d-ee2a-4f15-9662-20b24e13f93c"
      },
      "outputs": [
        {
          "name": "stdout",
          "output_type": "stream",
          "text": [
            "98\n",
            "98 x 1 = 98\n",
            "98 x 2 = 196\n",
            "98 x 3 = 294\n",
            "98 x 4 = 392\n",
            "98 x 5 = 490\n",
            "98 x 6 = 588\n",
            "98 x 7 = 686\n",
            "98 x 8 = 784\n",
            "98 x 9 = 882\n",
            "98 x 10 = 980\n"
          ]
        }
      ],
      "source": [
        "n = int(input())\n",
        "i = 1\n",
        "while i<=10:\n",
        "\tprint(n,\"x\",i,\"=\",n*i)\n",
        "\ti = i+1"
      ]
    },
    {
      "cell_type": "markdown",
      "metadata": {
        "id": "KC7N_idbPcq2"
      },
      "source": [
        "Practical 1\n",
        "Lab Assignment:2"
      ]
    },
    {
      "cell_type": "code",
      "execution_count": null,
      "metadata": {
        "colab": {
          "base_uri": "https://localhost:8080/"
        },
        "id": "NnmIylGyKF09",
        "outputId": "43af8df9-7c33-479e-d106-176225eac6c7"
      },
      "outputs": [
        {
          "name": "stdout",
          "output_type": "stream",
          "text": [
            "66\n",
            "89\n",
            "Aggregate Percentage: 1.35\n"
          ]
        }
      ],
      "source": [
        "n= int(input())\n",
        "marks = list(map(int,input().split()))\n",
        "if all(mark>=40 for mark in marks):\n",
        "\tap =sum(marks)/n\n",
        "\tprint(F\"Aggregate Percentage: {ap:.2F}\")\n",
        "\tif(ap>=75):\n",
        "\t\tprint(\"Grade: Distinction\")\n",
        "\telif(ap>=60):\n",
        "\t\tprint(\"Grade: First Division\")\n",
        "\telif(ap>=50):\n",
        "\t\tprint(\"Grade: Second Division\")\n",
        "\telif(ap>=40):\n",
        "\t\tprint(\"Grade: Third Division\")\n",
        "else:\n",
        "\tprint(\"Fail\")\n"
      ]
    },
    {
      "cell_type": "code",
      "execution_count": null,
      "metadata": {
        "colab": {
          "base_uri": "https://localhost:8080/"
        },
        "id": "MtPR1LkpKMct",
        "outputId": "87b3c7bb-ced8-4d61-8b2b-5deec0981a6d"
      },
      "outputs": [
        {
          "name": "stdout",
          "output_type": "stream",
          "text": [
            "Enter terms for Fibonacci series: 5\n",
            "0 1 1 2 3 "
          ]
        }
      ],
      "source": [
        "def fib(n):\n",
        "\tif n<=0:\n",
        "\t\treturn 0\n",
        "\telif n==1:\n",
        "\t\treturn 1\n",
        "\telse:\n",
        "\t\treturn fib(n-1)+fib(n-2)\n",
        "\n",
        "n=int(input(\"Enter terms for Fibonacci series: \"))\n",
        "for i in range (n):\n",
        "      print(fib(i),end=\" \")\n"
      ]
    },
    {
      "cell_type": "code",
      "execution_count": null,
      "metadata": {
        "colab": {
          "base_uri": "https://localhost:8080/"
        },
        "id": "rtj5DJLBKQrg",
        "outputId": "08630f9b-d32e-4bee-9653-16eb3627ce9d"
      },
      "outputs": [
        {
          "name": "stdout",
          "output_type": "stream",
          "text": [
            "7\n",
            "* \n",
            "* * \n",
            "* * * \n",
            "* * * * \n",
            "* * * * * \n",
            "* * * * * * \n",
            "* * * * * * * \n"
          ]
        }
      ],
      "source": [
        "#Type Content here...\n",
        "a = int(input(\"\"))\n",
        "for i in range(1,a + 1):\n",
        "\tprint('* '*i)\n"
      ]
    },
    {
      "cell_type": "code",
      "execution_count": null,
      "metadata": {
        "colab": {
          "base_uri": "https://localhost:8080/"
        },
        "id": "YX9bwBr0KUcI",
        "outputId": "b9992ef4-d85f-461e-940c-3ec9cfe44556"
      },
      "outputs": [
        {
          "name": "stdout",
          "output_type": "stream",
          "text": [
            "12\n",
            "1 \n",
            "1 2 \n",
            "1 2 3 \n",
            "1 2 3 4 \n",
            "1 2 3 4 5 \n",
            "1 2 3 4 5 6 \n",
            "1 2 3 4 5 6 7 \n",
            "1 2 3 4 5 6 7 8 \n",
            "1 2 3 4 5 6 7 8 9 \n",
            "1 2 3 4 5 6 7 8 9 10 \n",
            "1 2 3 4 5 6 7 8 9 10 11 \n",
            "1 2 3 4 5 6 7 8 9 10 11 12 \n"
          ]
        }
      ],
      "source": [
        "a =int(input(\"\"))\n",
        "for i in range(1 , a+1):\n",
        "\tfor j in range(1 , i+1):\n",
        "\t\tprint(f\"{j} \",end='')\n",
        "\tprint()\n"
      ]
    },
    {
      "cell_type": "markdown",
      "metadata": {
        "id": "Fz-nIHQbPoOo"
      },
      "source": [
        "Practical 2\n",
        "Lab Assignment 1"
      ]
    },
    {
      "cell_type": "code",
      "execution_count": null,
      "metadata": {
        "colab": {
          "background_save": true,
          "base_uri": "https://localhost:8080/"
        },
        "id": "2Qb66hg-KjK3",
        "outputId": "70b4bc36-d950-4a27-ae62-399ab11ee313"
      },
      "outputs": [
        {
          "name": "stdout",
          "output_type": "stream",
          "text": [
            "1. Add\n",
            "2. Remove\n",
            "3. Display\n",
            "4. Quit\n",
            "Invalid choice\n",
            "1. Add\n",
            "2. Remove\n",
            "3. Display\n",
            "4. Quit\n",
            "Invalid choice\n",
            "1. Add\n",
            "2. Remove\n",
            "3. Display\n",
            "4. Quit\n",
            "Invalid choice\n",
            "1. Add\n",
            "2. Remove\n",
            "3. Display\n",
            "4. Quit\n",
            "Invalid choice\n",
            "1. Add\n",
            "2. Remove\n",
            "3. Display\n",
            "4. Quit\n",
            "List is empty\n",
            "1. Add\n",
            "2. Remove\n",
            "3. Display\n",
            "4. Quit\n"
          ]
        }
      ],
      "source": [
        "l1=[]\n",
        "while True:\n",
        "\tprint(\"1. Add\")\n",
        "\tprint(\"2. Remove\")\n",
        "\tprint(\"3. Display\")\n",
        "\tprint(\"4. Quit\")\n",
        "\tchoice=int(input(\"Enter choice: \"))\n",
        "\tif choice >4 :\n",
        "\t\tprint(\"Invalid choice\")\n",
        "\t\tcontinue\n",
        "\tif choice == 1:\n",
        "\t\tinteger=int(input(\"Integer: \"))\n",
        "\t\tl1.append(integer)\n",
        "\t\tprint(f\"List after adding: {l1}\")\n",
        "\telif choice == 2:\n",
        "\t\tif len(l1)!=0:\n",
        "\t\t\tinteger=int(input(\"Integer: \"))\n",
        "\t\t\tif integer in l1:\n",
        "\t\t\t\tl1.remove(integer)\n",
        "\t\t\t\tprint(f\"List after removing: {l1}\")\n",
        "\t\t\telse:\n",
        "\t\t\t\tprint(\"Element not found\")\n",
        "\t\telse:\n",
        "\t\t\tprint(\"List is empty\",end=\"\\n\")\n",
        "\telif choice == 3:\n",
        "\t\tif len(l1)!=0:\n",
        "\t\t\tprint(l1)\n",
        "\t\telse:\n",
        "\t\t\tprint(\"List is empty\",end=\"\\n\")\n",
        "\telif choice == 4:\n",
        "\t\tbreak"
      ]
    },
    {
      "cell_type": "code",
      "execution_count": null,
      "metadata": {
        "id": "IPwtc9coKplq"
      },
      "outputs": [],
      "source": [
        "# 1. Create an empty dictionary and display it\n",
        "my_dict = {}\n",
        "print(\"Empty Dictionary:\", my_dict)\n",
        "\n",
        "# 2. Ask the user how many items to add, then input key-value pairs\n",
        "size = int(input(\"Number of items: \"))\n",
        "for _ in range(size):\n",
        "\tkey=input(\"key: \")\n",
        "\tvalue=input(\"value: \")\n",
        "\tmy_dict[key]=value\n",
        "\n",
        "# 3. Show the dictionary after adding items\n",
        "print(\"Dictionary:\", my_dict)\n",
        "\n",
        "# 4. Update a key's value\n",
        "key_to_update = input(\"Enter the key to update: \")\n",
        "if key_to_update in my_dict:\n",
        "\tnew_value=input(\"Enter the new value: \")\n",
        "\tmy_dict[key_to_update]=new_value\n",
        "\tprint(\"Value updated\")\n",
        "else:\n",
        "\tprint(\"Key not found\")\n",
        "\n",
        "\n",
        "# 5. Retrieve and print a value using a key\n",
        "key_to_access = input(\"Enter the key to retrieve: \")\n",
        "if key_to_access in my_dict:\n",
        "\tprint(f\"Key: {key_to_access}\",end=\", \")\n",
        "\tprint(f'Value: {my_dict[key_to_access]}')\n",
        "else:\n",
        "\tprint(\"Key not found\")\n",
        "\n",
        "\n",
        "\n",
        "# 6. Use `get()` to retrieve a value\n",
        "key_to_get = input(\"Enter the key to get using the get() method: \")\n",
        "if key_to_get in my_dict:\n",
        "\tprint(f\"Key: {key_to_get}\",end=\", \")\n",
        "\tvalue=my_dict.get(key_to_get)\n",
        "\tprint(f\"Value: {value}\",end=\"\\n\")\n",
        "else:\n",
        "\tprint(\"Keymnot found\")\n",
        "\n",
        "# 7. Delete a key-value pair\n",
        "key_to_delete = input(\"Enter the key to delete: \")\n",
        "if key_to_delete in my_dict:\n",
        "\tmy_dict.pop(key_to_delete)\n",
        "\tprint(\"Deleted\",end=\"\\n\")\n",
        "else:\n",
        "\tprint(\"Key not found\")\n",
        "\n",
        "\n",
        "\n",
        "# 8. Display the updated dictionary\n",
        "print(\"Updated Dictionary:\", my_dict)"
      ]
    },
    {
      "cell_type": "markdown",
      "metadata": {
        "id": "TCOeuea7P3oC"
      },
      "source": [
        "Practical 2\n",
        "Lab Assignment2\n"
      ]
    },
    {
      "cell_type": "code",
      "execution_count": null,
      "metadata": {
        "id": "qeoDYlNQK0vg"
      },
      "outputs": [],
      "source": [
        "user_input=list(map(int,input().split()))\n",
        "user_input2=int(input())\n",
        "if user_input2 in user_input:\n",
        "\tprint(user_input.index(user_input2))\n",
        "else:\n",
        "\tprint(\"Not found\")"
      ]
    },
    {
      "cell_type": "code",
      "execution_count": null,
      "metadata": {
        "id": "8_ZX7WOJK5M-"
      },
      "outputs": [],
      "source": [
        "user_input=list(map(int,input().split()))\n",
        "if len(user_input) == 11:\n",
        "\tprint(max(user_input))\n",
        "else:\n",
        "\tprint(\"not enough players\")"
      ]
    },
    {
      "cell_type": "markdown",
      "metadata": {
        "id": "I-g9ofl4QCtQ"
      },
      "source": [
        "Practical 3\n",
        "Lab Assignment1"
      ]
    },
    {
      "cell_type": "code",
      "execution_count": null,
      "metadata": {
        "id": "dzXAyCvXK9bv"
      },
      "outputs": [],
      "source": [
        "import numpy as np\n",
        "\n",
        "r,c=map(int,input().split())\n",
        "array_elements=[]\n",
        "for i in range(r):\n",
        "\trow_element=list(map(int,input().split()))\n",
        "\tarray_elements.append(row_element)\n",
        "\n",
        "aarr=np.array(array_elements)\n",
        "print(aarr)\n",
        "if r==0 and c==0:\n",
        "\tprint('2')\n",
        "\tprint(\"(0, 0)\")\n",
        "\tprint(aarr.size)\n",
        "else:\n",
        "\tprint(aarr.ndim)\n",
        "\tprint(aarr.shape)\n",
        "\tprint(aarr.size)"
      ]
    },
    {
      "cell_type": "markdown",
      "metadata": {
        "id": "qXqVtgG-QNlY"
      },
      "source": [
        "Practical 3\n",
        "Lab Assignment2"
      ]
    },
    {
      "cell_type": "code",
      "execution_count": null,
      "metadata": {
        "id": "O-Pg-st7LCVh"
      },
      "outputs": [],
      "source": [
        "import numpy as np\n",
        "\n",
        "# Input matrices\n",
        "print(\"Enter Matrix A:\")\n",
        "matrix_a = np.array([list(map(int, input().split())) for i in range(3)])\n",
        "\n",
        "print(\"Enter Matrix B:\")\n",
        "matrix_b = np.array([list(map(int, input().split())) for i in range(3)])\n",
        "\n",
        "\n",
        "# Addition\n",
        "print(\"Addition (A + B):\")\n",
        "print((matrix_a+matrix_b))\n",
        "# Subtraction\n",
        "print(\"Subtraction (A - B):\")\n",
        "print((matrix_a-matrix_b))\n",
        "# Multiplication (element-wise)\n",
        "print(\"Element-wise Multiplication (A * B):\")\n",
        "print((matrix_a*matrix_b))\n",
        "# Matrix multiplication (dot product)\n",
        "print(\"A dot B:\")\n",
        "print(np.dot(matrix_a,matrix_b))\n",
        "# Transpose\n",
        "print(\"Transpose of A:\")\n",
        "print(np.transpose(matrix_a))"
      ]
    },
    {
      "cell_type": "code",
      "execution_count": null,
      "metadata": {
        "id": "jLBDk-BxLHxf"
      },
      "outputs": [],
      "source": [
        "import numpy as np\n",
        "\n",
        "# # Input matrices\n",
        "# print(\"Enter Array1:\")\n",
        "# arr1 = np.array([list(map(int, input().split())) for i in range(3)])\n",
        "\n",
        "# print(\"Enter Array2:\")\n",
        "# arr2 = np.array([list(map(int, input().split())) for i in range(3)])\n",
        "\n",
        "# Input matrices\n",
        "print(\"Enter Array1:\")\n",
        "arr1 = np.array([list(map(int, input().split())) for i in range(3)])\n",
        "\n",
        "print(\"Enter Array2:\")\n",
        "arr2 = np.array([list(map(int, input().split())) for i in range(3)])\n",
        "\n",
        "# Perform horizontal stacking (hstack)\n",
        "print(\"Horizontal Stack:\")\n",
        "print(np.hstack((arr1,arr2)))\n",
        "\n",
        "# Perform vertical stacking (vstack)\n",
        "print(\"Vertical Stack:\")\n",
        "print(np.vstack((arr1,arr2)))"
      ]
    },
    {
      "cell_type": "code",
      "execution_count": null,
      "metadata": {
        "id": "lDJRYR6hLNiN"
      },
      "outputs": [],
      "source": [
        "import numpy as np\n",
        "\n",
        "# Take user input for the start, stop, and step of the sequence\n",
        "start = int(input())\n",
        "stop = int(input())\n",
        "step = int(input())\n",
        "\n",
        "# Generate the sequence using np.arange()\n",
        "\n",
        "print(np.arange(start,stop,step))\n"
      ]
    },
    {
      "cell_type": "code",
      "execution_count": null,
      "metadata": {
        "id": "5qNQBqg6LRqm"
      },
      "outputs": [],
      "source": [
        "import numpy as np\n",
        "\n",
        "def array_operations(A, B):\n",
        "\n",
        "\tA = np.array(A)\n",
        "\tB = np.array(B)\n",
        "\t# Arithmetic Operations\n",
        "\tsum_result = A+B\n",
        "\tdiff_result = A-B\n",
        "\tprod_result = A*B\n",
        "\n",
        "\t# Statistical Operations\n",
        "\tmean_A = np.mean(A)\n",
        "\tmedian_A = np.median(A)\n",
        "\tstd_dev_A = np.std(A)\n",
        "\n",
        "\t# Bitwise Operations\n",
        "\tand_result = A & B\n",
        "\tor_result = A | B\n",
        "\txor_result = A ^ B\n",
        "\n",
        "    # Output results with one space between each element\n",
        "\tprint(\"Element-wise Sum:\", ' '.join(map(str, sum_result)))\n",
        "\tprint(\"Element-wise Difference:\", ' '.join(map(str, diff_result)))\n",
        "\tprint(\"Element-wise Product:\", ' '.join(map(str, prod_result)))\n",
        "\n",
        "\tprint(f\"Mean of A: {mean_A}\")\n",
        "\tprint(f\"Median of A: {median_A}\")\n",
        "\tprint(f\"Standard Deviation of A: {std_dev_A}\")\n",
        "\n",
        "\tprint(\"Bitwise AND:\", ' '.join(map(str, and_result)))\n",
        "\tprint(\"Bitwise OR:\", ' '.join(map(str, or_result)))\n",
        "\tprint(\"Bitwise XOR:\", ' '.join(map(str, xor_result)))\n",
        "\n",
        "A = list(map(int, input().split()))  # Elements of array A\n",
        "B = list(map(int, input().split()))  # Elements of array B\n",
        "array_operations(A, B)"
      ]
    },
    {
      "cell_type": "code",
      "execution_count": null,
      "metadata": {
        "id": "PAXbiZSQLWtl"
      },
      "outputs": [],
      "source": [
        "import numpy as np\n",
        "\n",
        "inputlist = list(map(int,input().split(\" \")))\n",
        "\n",
        "# Original array\n",
        "original_array = np.array(inputlist)\n",
        "\n",
        "# Create a view\n",
        "view_array =original_array.view()\n",
        "\n",
        "# Create a copy\n",
        "copy_array =original_array.copy()\n",
        "\n",
        "\n",
        "\n",
        "# Modify the view\n",
        "view_array[0] = 99\n",
        "print(\"Original array after modifying view:\", original_array)\n",
        "print(\"View array:\", view_array)\n",
        "\n",
        "# Modify the copy\n",
        "copy_array[1] = 88\n",
        "print(\"Original array after modifying copy:\", original_array)\n",
        "print(\"Copy array:\", copy_array)\n"
      ]
    },
    {
      "cell_type": "code",
      "execution_count": null,
      "metadata": {
        "id": "fB2g_t1aLbyX"
      },
      "outputs": [],
      "source": [
        "import numpy as np\n",
        "\n",
        "# Input array from the user\n",
        "array1 = np.array(list(map(int, input().split())))\n",
        "\n",
        "# Searching\n",
        "search_value = int(input(\"Value to search: \"))\n",
        "count_value = int(input(\"Value to count: \"))\n",
        "broadcast_value = int(input(\"Value to add: \"))\n",
        "\n",
        "# Find indices where value matches in array1\n",
        "print(np.where(array1 == search_value)[0])\n",
        "# Count occurrences in array1\n",
        "print(np.count_nonzero(array1 == count_value))\n",
        "# Broadcasting addition\n",
        "print(array1 + broadcast_value)\n",
        "# Sort the first array\n",
        "print(np.sort(array1))"
      ]
    },
    {
      "cell_type": "code",
      "execution_count": null,
      "metadata": {
        "id": "Cjhs-NIhLluL"
      },
      "outputs": [],
      "source": [
        "import numpy as np\n",
        "\n",
        "a = np.loadtxt(\"Sample.csv\", delimiter=',', skiprows=1)\n",
        "\n",
        "# 1. Print all student details\n",
        "\n",
        "# 10. print average marks of each subject\n",
        "\n",
        "print(\"All student Details:\\n\",a)\n",
        "\n",
        "# 2. print total students\n",
        "r,c = a.shape\n",
        "print(\"Total Students:\",r)\n",
        "\n",
        "# 3. Print all student Roll numbers\n",
        "print(\"All Student Roll Nos\", a[:,0])\n",
        "\n",
        "# 4. Print subject 1 marks\n",
        "print(\"Subject 1 Marks\", a[:,1])\n",
        "\n",
        "# 5. print minimum marks of Subject 2\n",
        "print(\"Min marks in Subject 2\",np.min(a[:,2]))\n",
        "\n",
        "# 6. print maximum marks of Subject 3\n",
        "print(\"Max marks in Subject 3\",np.max(a[:,3]))\n",
        "\n",
        "# 7. Print All subject marks\n",
        "print(\"All subject marks:\", a[:, 1:])\n",
        "\n",
        "# 8. print Total marks of students\n",
        "print(\"Total Marks\",np.sum(a[:, 1:],axis=1))\n",
        "\n",
        "# 9. print average marks of each student\n",
        "avg=np.mean(a[:, 1:], axis=1)\n",
        "print(np.round(avg,1))\n",
        "\n",
        "# 10. print average marks of each subject\n",
        "print(\"Average Marks of each subject\",np.mean(a[:,1:],axis=0))\n",
        "\n",
        "# 11. print average marks of S1 and S2\n",
        "print(\"Average Marks of S1 and S2\",np.mean(a[:,1:3],axis=0))\n",
        "\n",
        "# 12. print average marks of S1 and S3\n",
        "print(\"Average Marks of S1 and S3\",np.mean(a[:,[1,3]],axis=0))\n",
        "\n",
        "# 13. print Roll number who got maximum marks in Subject 3\n",
        "i=np.argmax(a[:,3])\n",
        "print(\"Roll no who got maximum marks in Subject 3\",a[i,0])\n",
        "\n",
        "# 14. print Roll number who got minimum marks in Subject 2\n",
        "mn=np.argmin(a[:,2])\n",
        "print(\"Roll no who got minimum marks in Subject 2\",a[mn,0])\n",
        "\n",
        "# 15. print Roll number who got 24 marks in Subject 2\n",
        "whr=np.where(a[:,2]==24)\n",
        "print(\"Roll no who got 24 marks in Subject 2\",a[whr,0])\n",
        "\n",
        "# 16. print count of students who got marks in Subject 1 < 40\n",
        "ct=np.count_nonzero(a[:,1]<40)\n",
        "print(\"Count of students who got marks in Subject 1 < 40\",ct)\n",
        "\n",
        "# 17. print count of students who got marks in Subject 2 > 90\n",
        "ct1=np.count_nonzero(a[:,2]>90)\n",
        "print(\"Count of students who got marks in Subject 2 > 90:\",ct1)\n",
        "\n",
        "# 18. print count of students in each subject who got marks >= 90\n",
        "print(\"Count of students in each subject who got marks >= 90:\",np.count_nonzero(a[:,1:]>=90,axis=0))\n",
        "\n",
        "# 19. print count of subjects in which each student got marks >= 90\n",
        "print(\"Roll no:\",a[:,0])\n",
        "print(\"Count of subjects in which student got marks >= 90:\",np.count_nonzero(a[:,1:]>=90,axis=1))\n",
        "\n",
        "# 20. Print S1 marks in ascending order\n",
        "srt=np.sort(a[:,1])\n",
        "print(srt)\n",
        "\n",
        "\n",
        "# 21. Print S1 marks >= 50 and <= 90\n",
        "print(a[(a[:,1]>=50)& (a[:,1]<90)])\n",
        "print(a)\n",
        "\n",
        "# 22. Print the index position of marks 79\n",
        "ip=np.where(a[:,1]==79)\n",
        "print(ip)"
      ]
    },
    {
      "cell_type": "markdown",
      "metadata": {
        "id": "pt91JL8mQhO4"
      },
      "source": [
        "Practical 4\n",
        "Lab Assignment1"
      ]
    },
    {
      "cell_type": "code",
      "execution_count": null,
      "metadata": {
        "id": "oEZixwXlLwHL"
      },
      "outputs": [],
      "source": [
        "import pandas as pd\n",
        "\n",
        "# Take inputs from the user to create a list of numbers\n",
        "numbers = list(map(int, input().split()))\n",
        "# Create a Pandas series from the list of numbers\n",
        "series1=pd.Series(numbers)\n",
        "# Grouping by even and odd numbers and calculating the mean\n",
        "even_odd=series1.groupby(series1%2==0)\n",
        "\n",
        "grouped = even_odd.mean()\n",
        "\n",
        "# Display the mean of even and odd numbers with labels\n",
        "grouped.index = ['Even' if is_even else 'Odd' for is_even in grouped.index]\n",
        "print(\"Mean of even and odd numbers:\")\n",
        "print(grouped)\n"
      ]
    },
    {
      "cell_type": "code",
      "execution_count": null,
      "metadata": {
        "id": "cyBLOnyHL1lv"
      },
      "outputs": [],
      "source": [
        "import pandas as pd\n",
        "\n",
        "# Provided dictionary of lists\n",
        "data = {\n",
        "    'Name': ['Alice', 'Bob', 'Charlie'],\n",
        "    'Age': [25, 30, 35],\n",
        "}\n",
        "\n",
        "# Convert the dictionary to a DataFrame\n",
        "df = pd.DataFrame(data)\n",
        "\n",
        "# Display the original DataFrame\n",
        "print(\"Original DataFrame:\")\n",
        "print(df)\n",
        "\n",
        "new_name = input(\"New name: \")\n",
        "new_age = int(input(\"New age: \"))\n",
        "new_row={'Name':new_name,'Age':new_age}\n",
        "df=pd.concat([df,pd.DataFrame([new_row])],ignore_index=True)\n",
        "# Display the DataFrame after adding a new row\n",
        "print(\"After adding a row:\\n\",df)\n",
        "\n",
        "modify_index=int(input(\"Index of row to modify: \"))\n",
        "new_age_mod=int(input(\"New age: \"))\n",
        "df.loc[modify_index,\"Age\"] = new_age_mod\n",
        "\n",
        "# Display the DataFrame after modifying a row\n",
        "print(\"After modifying a row:\")\n",
        "print(df)\n",
        "\n",
        "delete_index=int(input(\"Index of row to delete: \"))\n",
        "df=df.drop(delete_index).reset_index(drop=True)\n",
        "\n",
        "# Display the DataFrame after deleting a row\n",
        "print(\"After deleting a row:\")\n",
        "print(df)\n",
        "gender_input=input(\"Enter genders separated by space: \")\n",
        "genders=gender_input.split()\n",
        "df[\"Gender\"]=genders\n",
        "# Adding a new column\n",
        "\n",
        "print(\"After adding a new column:\")\n",
        "print(df)\n",
        "\n",
        "# Modifying a column\n",
        "\n",
        "df[\"Name\"]=df[\"Name\"].str.upper()\n",
        "# Display the DataFrame after modifying a column\n",
        "print(\"After modifying a column:\")\n",
        "print(df)\n",
        "df=df.drop(columns=['Age'])\n",
        "# Display the DataFrame after deleting a column\n",
        "print(\"After deleting a column:\")\n",
        "print(df)\n"
      ]
    },
    {
      "cell_type": "code",
      "execution_count": null,
      "metadata": {
        "id": "N18hTnstL7_W"
      },
      "outputs": [],
      "source": [
        "import pandas as pd\n",
        "\n",
        "# Read the text file into a DataFrame\n",
        "file = input()\n",
        "data = pd.read_csv(file, sep=\"\\s+\", header=None, names=[\"Name\", \"Age\", \"Grade\"])\n",
        "print(\"First five rows:\")\n",
        "print(data.head(5))\n",
        "# write your code here..\n",
        "age=round(data['Age'].mean(),2)\n",
        "print(\"Average age:\",age)\n",
        "print(\"Students with a grade up to B\")\n",
        "df=pd.DataFrame(data)\n",
        "a=df[df['Grade']<='B']\n",
        "print(a)\n",
        "\n"
      ]
    },
    {
      "cell_type": "markdown",
      "metadata": {
        "id": "G6-xXsu3Qs2N"
      },
      "source": [
        "Practical 4\n",
        "Lab Assignment2"
      ]
    },
    {
      "cell_type": "code",
      "execution_count": null,
      "metadata": {
        "id": "7ze8Q1H9L_r8"
      },
      "outputs": [],
      "source": [
        "import pandas as pd\n",
        "\n",
        "# Prompt the user for the file name\n",
        "file_name = input()\n",
        "\n",
        "# Load the data\n",
        "df = pd.read_csv(file_name)\n",
        "\n",
        "df['Date']=pd.to_datetime(df['Date'])\n",
        "\n",
        "df['Sale'] = df['Quantity'] * df['Price']\n",
        "\n",
        "df['Month'] = df['Date'].dt.to_period('M')\n",
        "\n",
        "monthly_sales = df.groupby('Month')['Sale'].sum()\n",
        "\n",
        "\n",
        "\n",
        "# Find the month with the highest total sales\n",
        "best_month = monthly_sales.idxmax()\n",
        "highest_sales = monthly_sales.max()\n",
        "\n",
        "\n",
        "\n",
        "print(f\"Best month: {best_month}\")\n",
        "print(f\"Total sales: ${highest_sales:.2f}\")"
      ]
    },
    {
      "cell_type": "code",
      "execution_count": null,
      "metadata": {
        "id": "gS2MLNaAMEFG"
      },
      "outputs": [],
      "source": [
        "import pandas as pd\n",
        "\n",
        "# Prompt the user for the file name\n",
        "file_name = input()\n",
        "\n",
        "# Load the data\n",
        "df = pd.read_csv(file_name)\n",
        "\n",
        "# Find the product with the highest total quantity sold\n",
        "product_sales = df.groupby(\"Product\")[\"Quantity\"].sum()\n",
        "best_product = product_sales.idxmax()\n",
        "highest_quantity = product_sales.max()\n",
        "\n",
        "# Display the result\n",
        "print(f\"Best selling product: {best_product}\")\n",
        "print(f\"Total quantity sold: {highest_quantity}\")\n",
        "\n"
      ]
    },
    {
      "cell_type": "code",
      "execution_count": null,
      "metadata": {
        "id": "gx20_dt4MKwz"
      },
      "outputs": [],
      "source": [
        "import pandas as pd\n",
        "\n",
        "# Prompt the user for the file name\n",
        "file_name = input()\n",
        "\n",
        "# Load the data\n",
        "df = pd.read_csv(file_name)\n",
        "\n",
        "# write the code..\n",
        "city_sales = df.groupby(\"City\")[\"Quantity\"].sum()\n",
        "\n",
        "# Find the city with the highest total quantity sold\n",
        "best_city = city_sales.idxmax()\n",
        "\n",
        "# Display the result\n",
        "print(f\"City sold the most products: {best_city}\")\n"
      ]
    },
    {
      "cell_type": "code",
      "execution_count": null,
      "metadata": {
        "id": "cIjgVnImMQZe"
      },
      "outputs": [],
      "source": [
        "import pandas as pd\n",
        "from itertools import combinations\n",
        "from collections import Counter\n",
        "\n",
        "# Prompt user to input the file name\n",
        "file_name = input()\n",
        "\n",
        "# Read data from the specified CSV file\n",
        "df = pd.read_csv(file_name)\n",
        "\n",
        "# write the code\n",
        "\n",
        "\n",
        "# Output the most frequent product pairs\n",
        "date_groups = df.groupby('Date')['Product'].apply(list)\n",
        "\n",
        "pair_counter = Counter()\n",
        "\n",
        "for products in date_groups:\n",
        "    unique_pairs = combinations(sorted(set(products)), 2)\n",
        "    pair_counter.update(unique_pairs)\n",
        "\n",
        "max_freq = max(pair_counter.values())\n",
        "\n",
        "for pair, count in pair_counter.items():\n",
        "    if count == max_freq:\n",
        "       print(f\"{pair[0]} and {pair[1]}: {count} times\")"
      ]
    },
    {
      "cell_type": "code",
      "execution_count": null,
      "metadata": {
        "id": "zcmmiL1eMVyC"
      },
      "outputs": [],
      "source": [
        "import pandas as pd\n",
        "import numpy as np\n",
        "\n",
        "# Load the Titanic dataset\n",
        "data = pd.read_csv('Titanic-Dataset.csv')\n",
        "\n",
        "# 1. Display the first 5 rows of the dataset\n",
        "print(data.head())\n",
        "\n",
        "#2. Display the last 5 rows of the dataset\n",
        "print(data.tail())\n",
        "\n",
        "#3. Get the shape of the dataset\n",
        "print(data.shape)\n",
        "\n",
        "#4. Get a summary of the dataset (info)\n",
        "\n",
        "print(data.info())\n",
        "\n",
        "#5. Get basic statistics of the dataset\n",
        "\n",
        "print(data.describe())\n",
        "\n",
        "#6. Check for missing values\n",
        "\n",
        "print(data.isnull().sum())\n",
        "\n",
        "#7. Fill missing values in the 'Age' column with the median age\n",
        "\n",
        "median_age= data['Age'].median()\n",
        "\n",
        "data['Age'].fillna(median_age, inplace=True)\n",
        "\n",
        "#8. Fill missing values in the 'Embarked' column with the most frequent value\n",
        "\n",
        "data[\"Embarked\"].fillna(data[\"Embarked\"].mode()[0],inplace=True)\n",
        "\n",
        "#9. Drop the 'Cabin' column due to many missing values\n",
        "\n",
        "data.drop('Cabin', axis=1, inplace=True)\n",
        "\n",
        "#10. Create a new column'FamilySize' by adding 'SibSp' and 'Parch'\n",
        "\n",
        "data['FamilySize']= data['SibSp']+ data['Parch']"
      ]
    },
    {
      "cell_type": "code",
      "execution_count": null,
      "metadata": {
        "id": "2D0OAhuoMe6u"
      },
      "outputs": [],
      "source": [
        "import pandas as pd\n",
        "import numpy as np\n",
        "\n",
        "# Load the Titanic dataset\n",
        "data = pd.read_csv('Titanic-Dataset.csv')\n",
        "data['FamilySize'] = data['SibSp'] + data['Parch']\n",
        "\n",
        "# 1. Create a new column ‘IsAlone' (1 if alone, 0 otherwise)\n",
        "data['Sex'] = data['Sex'].map({'male': 0, 'female': 1})\n",
        "\n",
        "#3. One-hot encode the 'Embarked' column, dropping the first category data pd.get_dummies(data, columns= ['Embarked'], drop_first=True)\n",
        "data = pd.get_dummies(data, columns= ['Embarked'], drop_first=True)\n",
        "#4. Get the mean age of passengers mean_age data['Age'].mean()\n",
        "mean_age = data['Age'].mean()\n",
        "print(mean_age)\n",
        "\n",
        "#5. Get the median fare of passengers median_fare = data['Fare'].median() print(median_fare)\n",
        "median_fare = data['Fare'].median()\n",
        "print(median_fare)\n",
        "#6. Get the number of passengers by class\n",
        "\n",
        "passengers_by_class = data['Pclass'].value_counts()\n",
        "print(passengers_by_class)\n",
        "\n",
        "#7. Get the number of passengers by gender\n",
        "\n",
        "passengers_by_gender = data['Sex'].value_counts().sort_index()\n",
        "print(passengers_by_gender)\n",
        "\n",
        "#8. Get the number of passengers by survival status\n",
        "\n",
        "passengers_by_survival = data['Survived'].value_counts().sort_index()\n",
        "print(passengers_by_survival)\n",
        "\n",
        "#9. Calculate the survival rate\n",
        "\n",
        "survival_rate =data['Survived'].mean()\n",
        "print(survival_rate)\n",
        "\n",
        "#10. Calculate the survival rate by gender\n",
        "\n",
        "survival_rate_by_gender =data.groupby('Sex')['Survived'].mean()\n",
        "print(survival_rate_by_gender)\n"
      ]
    },
    {
      "cell_type": "code",
      "execution_count": null,
      "metadata": {
        "id": "Wv8qZCv1MkUp"
      },
      "outputs": [],
      "source": [
        "import pandas as pd\n",
        "import numpy as np\n",
        "\n",
        "# Load the Titanic dataset\n",
        "data = pd.read_csv('Titanic-Dataset.csv')\n",
        "data['FamilySize'] = data['SibSp'] + data['Parch']\n",
        "data['IsAlone'] = np.where(data['FamilySize'] > 0, 0, 1)\n",
        "data = pd.get_dummies(data, columns=['Embarked'], drop_first=True)\n",
        "\n",
        "# 1. Calculate the survival rate by class\n",
        "print(data.groupby('Pclass') ['Survived'].mean())\n",
        "\n",
        "#2. Calculate the survival rate by embarked location (Embarked_S)\n",
        "\n",
        "print(data.groupby('Embarked_S') ['Survived'].mean())\n",
        "\n",
        "#3. Calculate the survival rate by family size\n",
        "\n",
        "print(data.groupby('FamilySize') ['Survived'].mean())\n",
        "\n",
        "#4. Calculate the survival rate by being alone\n",
        "\n",
        "print(data.groupby('IsAlone') ['Survived'].mean())\n",
        "\n",
        "#5. Get the average fare by class\n",
        "\n",
        "print(data.groupby('Pclass') ['Fare'].mean())\n",
        "\n",
        "#6. Get the average age by class\n",
        "\n",
        "print(data.groupby('Pclass') ['Age'].mean())\n",
        "\n",
        "#7. Get the average age by survival status\n",
        "\n",
        "print(data.groupby('Survived') ['Age'].mean())\n",
        "\n",
        "#8. Get the average fare by survival status\n",
        "\n",
        "print(data.groupby('Survived') ['Fare'].mean())\n",
        "\n",
        "#9. Get the number of survivors by class (sort by values descending)\n",
        "\n",
        "print(data[data['Survived'] == 1] ['Pclass'].value_counts())\n",
        "\n",
        "#10. Get the number of non-survivors by class (sort by values descending)\n",
        "\n",
        "print(data[data['Survived'] == 0] ['Pclass'].value_counts())\n"
      ]
    },
    {
      "cell_type": "code",
      "execution_count": null,
      "metadata": {
        "id": "kf8gD1EVMoaZ"
      },
      "outputs": [],
      "source": [
        "import pandas as pd\n",
        "import numpy as np\n",
        "\n",
        "# Load the Titanic dataset\n",
        "data = pd.read_csv('Titanic-Dataset.csv')\n",
        "data = pd.get_dummies(data, columns=['Embarked'], drop_first=True)\n",
        "\n",
        "# 1. Get the number of survivors by gender\n",
        "\n",
        "print(data[data['Survived'] ==1]['Sex'].value_counts())\n",
        "\n",
        "#2. Number of non-survivors by gender\n",
        "\n",
        "print(data[data['Survived'] == 0] ['Sex'].value_counts())\n",
        "\n",
        "#3. Number of survivors by embarkation location 'S'\n",
        "\n",
        "print(data[data['Survived'] == 1] ['Embarked_S'].value_counts())\n",
        "\n",
        "#4. Number of non-survivors by embarkation location 'S'\n",
        "\n",
        "print(data[data['Survived'] == 0] ['Embarked_S'].value_counts())\n",
        "\n",
        "#5. Percentage of children (Age < 18) who survived\n",
        "\n",
        "children = data[data['Age'] < 18]\n",
        "print(children['Survived'].mean())\n",
        "\n",
        "# 6. Percentage of adults (Age >= 18) who survived\n",
        "\n",
        "adults = data[data['Age'] >= 18]\n",
        "print(adults['Survived'].mean())\n",
        "\n",
        "#7. Median age of survivors print(data[data['Survived'] == 1] ['Age'].median())\n",
        "print(data[data['Survived'] == 1] ['Age'].median())\n",
        "\n",
        "#8. Median age of non-survivors print(data[data['Survived'] == 0] ['Age'].median())\n",
        "print(data[data['Survived'] == 0] ['Age'].median())\n",
        "\n",
        "# 9. Median fare of survivors\n",
        "print(data[data['Survived'] == 1] ['Fare'].median())\n",
        "\n",
        "#10. Median fare of non-survivors\n",
        "print(data[data['Survived'] == 0] ['Fare'].median())"
      ]
    },
    {
      "cell_type": "markdown",
      "metadata": {
        "id": "whrFn9NsQ_WK"
      },
      "source": [
        "Practical 5\n",
        "Lab Assignment 1"
      ]
    },
    {
      "cell_type": "code",
      "execution_count": null,
      "metadata": {
        "id": "RRH8lXrpMv5S"
      },
      "outputs": [],
      "source": [
        "import matplotlib.pyplot as plt\n",
        "import pandas as pd\n",
        "\n",
        "# Data for Months and Temperature for three cities\n",
        "data = {\n",
        "    'Month': ['January', 'February', 'March', 'April', 'May', 'June', 'July', 'August', 'September', 'October', 'November', 'December'],\n",
        "    'City_A_Temperature': [5, 7, 10, 13, 17, 20, 22, 21, 18, 12, 8, 6],\n",
        "    'City_B_Temperature': [2, 3, 5, 6, 10, 14, 16, 17, 12, 9, 5, 3],\n",
        "    'City_C_Temperature': [3, 4, 6, 8, 9, 12, 15, 14, 10, 7, 4, 2]\n",
        "}\n",
        "\n",
        "# Write your code...\n",
        "\n",
        "df=pd.DataFrame(data)\n",
        "plt.stackplot(df['Month'],df['City_A_Temperature'],df['City_B_Temperature'],df['City_C_Temperature'])\n",
        "plt.xlabel('Month')\n",
        "plt.ylabel('Temperature')\n",
        "plt.title('Temperature Variation')\n",
        "\n",
        "plt.show()\n"
      ]
    },
    {
      "cell_type": "markdown",
      "metadata": {
        "id": "_u7SPFF0RGsj"
      },
      "source": [
        "Practical 5\n",
        "Lab Assignment 2"
      ]
    },
    {
      "cell_type": "code",
      "execution_count": null,
      "metadata": {
        "id": "Lh8rZg2iM0Y4"
      },
      "outputs": [],
      "source": [
        "import pandas as pd\n",
        "import matplotlib.pyplot as plt\n",
        "\n",
        "# Load the Titanic dataset\n",
        "data = pd.read_csv('Titanic-Dataset.csv')\n",
        "\n",
        "# Data Cleaning\n",
        "data['Age'].fillna(data['Age'].median(), inplace=True)\n",
        "data['Embarked'].fillna(data['Embarked'].mode()[0], inplace=True)\n",
        "data.drop('Cabin', axis=1, inplace=True)\n",
        "\n",
        "# Convert categorical features to numeric\n",
        "data['Sex'] = data['Sex'].map({'male': 0, 'female': 1})\n",
        "data = pd.get_dummies(data, columns=['Embarked'], drop_first=True)\n",
        "\n",
        "# Write your code here for Histogram\n",
        "plt.hist(data['Age'],bins=30,edgecolor='k')\n",
        "plt.xlabel('Age')\n",
        "plt.ylabel('Frequency')\n",
        "plt.title('Age Distribution')\n",
        "plt.show()"
      ]
    },
    {
      "cell_type": "code",
      "execution_count": null,
      "metadata": {
        "id": "U6oiuYEDM6VL"
      },
      "outputs": [],
      "source": [
        "import pandas as pd\n",
        "import matplotlib.pyplot as plt\n",
        "\n",
        "# Load the Titanic dataset\n",
        "data = pd.read_csv('Titanic-Dataset.csv')\n",
        "\n",
        "# Data Cleaning\n",
        "data['Age'].fillna(data['Age'].median(), inplace=True)\n",
        "data['Embarked'].fillna(data['Embarked'].mode()[0], inplace=True)\n",
        "data.drop('Cabin', axis=1, inplace=True)\n",
        "\n",
        "# Convert categorical features to numeric\n",
        "data['Sex'] = data['Sex'].map({'male': 0, 'female': 1})\n",
        "data = pd.get_dummies(data, columns=['Embarked'], drop_first=True)\n",
        "\n",
        "# Write your code here for Bar Plot for Survival Rate\n",
        "survival_counts = data['Survived'].value_counts()\n",
        "survival_counts.plot(kind='bar')\n",
        "plt.title('Survival Count')\n",
        "plt.xlabel('Survived')\n",
        "plt.ylabel('Count')\n",
        "plt.show()\n"
      ]
    },
    {
      "cell_type": "code",
      "execution_count": null,
      "metadata": {
        "id": "azcCsOl-M-Vr"
      },
      "outputs": [],
      "source": [
        "import pandas as pd\n",
        "import matplotlib.pyplot as plt\n",
        "\n",
        "# Load the Titanic dataset\n",
        "data = pd.read_csv('Titanic-Dataset.csv')\n",
        "\n",
        "# Data Cleaning\n",
        "data['Age'].fillna(data['Age'].median(), inplace=True)\n",
        "data['Embarked'].fillna(data['Embarked'].mode()[0], inplace=True)\n",
        "data.drop('Cabin', axis=1, inplace=True)\n",
        "\n",
        "# Convert categorical features to numeric\n",
        "data['Sex'] = data['Sex'].map({'male': 0, 'female': 1})\n",
        "data = pd.get_dummies(data, columns=['Embarked'], drop_first=True)\n",
        "\n",
        "# Write your code here for Bar Plot for Survival by Gender\n",
        "plt.figure()\n",
        "data.groupby('Sex')['Survived'].value_counts().unstack().plot(kind='bar', stacked=True)\n",
        "plt.title('Survival by Gender')\n",
        "plt.xlabel('Gender')\n",
        "plt.ylabel('Count')\n",
        "plt.legend(['Not Survived', 'Survived'])\n",
        "plt.show()"
      ]
    },
    {
      "cell_type": "code",
      "execution_count": null,
      "metadata": {
        "id": "TNIh-7FyNCi2"
      },
      "outputs": [],
      "source": [
        "import pandas as pd\n",
        "import matplotlib.pyplot as plt\n",
        "\n",
        "# Load the Titanic dataset\n",
        "data = pd.read_csv('Titanic-Dataset.csv')\n",
        "\n",
        "# Data Cleaning\n",
        "data['Age'].fillna(data['Age'].median(), inplace=True)\n",
        "data['Embarked'].fillna(data['Embarked'].mode()[0], inplace=True)\n",
        "data.drop('Cabin', axis=1, inplace=True)\n",
        "\n",
        "# Convert categorical features to numeric\n",
        "data['Sex'] = data['Sex'].map({'male': 0, 'female': 1})\n",
        "data = pd.get_dummies(data, columns=['Embarked'], drop_first=True)\n",
        "\n",
        "# Write your code here for Bar Plot for Survival by Pclass\n",
        "plt.figure()\n",
        "data.groupby('Pclass')['Survived'].value_counts().unstack().plot(kind='bar', stacked=True)\n",
        "plt.title('Survival by Pclass')\n",
        "plt.xlabel('Pclass')\n",
        "plt.ylabel('Count')\n",
        "plt.legend(['Not Survived', 'Survived'])\n",
        "plt.show()\n"
      ]
    },
    {
      "cell_type": "code",
      "execution_count": null,
      "metadata": {
        "id": "tcRxXJgDNHdy"
      },
      "outputs": [],
      "source": [
        "import pandas as pd\n",
        "import matplotlib.pyplot as plt\n",
        "\n",
        "# Load the Titanic dataset\n",
        "data = pd.read_csv('Titanic-Dataset.csv')\n",
        "\n",
        "# Data Cleaning\n",
        "data['Age'].fillna(data['Age'].median(), inplace=True)\n",
        "data['Embarked'].fillna(data['Embarked'].mode()[0], inplace=True)\n",
        "data.drop('Cabin', axis=1, inplace=True)\n",
        "\n",
        "# Convert categorical features to numeric\n",
        "data['Sex'] = data['Sex'].map({'male': 0, 'female': 1})\n",
        "data = pd.get_dummies(data, columns=['Embarked'], drop_first=True)\n",
        "\n",
        "# Write your code here for Bar Plot for Survival by Embarked\n",
        "\n",
        "plt.figure()\n",
        "data.groupby('Embarked_Q')['Survived'].value_counts().unstack().plot(kind='bar', stacked=True)\n",
        "plt.title('Survival by Embarked')\n",
        "plt.xlabel('Embarked')\n",
        "plt.ylabel('Count')\n",
        "plt.legend(['Not Survived', 'Survived'])\n",
        "plt.show()\n"
      ]
    },
    {
      "cell_type": "code",
      "execution_count": null,
      "metadata": {
        "id": "gdqSlgaqNMaW"
      },
      "outputs": [],
      "source": [
        "import pandas as pd\n",
        "import matplotlib.pyplot as plt\n",
        "\n",
        "# Load the Titanic dataset\n",
        "data = pd.read_csv('Titanic-Dataset.csv')\n",
        "\n",
        "# Data Cleaning\n",
        "data['Age'].fillna(data['Age'].median(), inplace=True)\n",
        "data['Embarked'].fillna(data['Embarked'].mode()[0], inplace=True)\n",
        "data.drop('Cabin', axis=1, inplace=True)\n",
        "\n",
        "# Convert categorical features to numeric\n",
        "data['Sex'] = data['Sex'].map({'male': 0, 'female': 1})\n",
        "data = pd.get_dummies(data, columns=['Embarked'], drop_first=True)\n",
        "\n",
        "# Write your code here for Box Plot for Age by Pclass\n",
        "plt.figure()\n",
        "data.boxplot(column='Age', by='Pclass')\n",
        "plt.title('Age by Pclass')\n",
        "plt.suptitle('')\n",
        "plt.xlabel('Pclass')\n",
        "plt.ylabel('Age')\n",
        "plt.show()"
      ]
    },
    {
      "cell_type": "code",
      "execution_count": null,
      "metadata": {
        "id": "IcsFy14JNSUF"
      },
      "outputs": [],
      "source": [
        "import pandas as pd\n",
        "import matplotlib.pyplot as plt\n",
        "\n",
        "# Load the Titanic dataset\n",
        "data = pd.read_csv('Titanic-Dataset.csv')\n",
        "\n",
        "# Data Cleaning\n",
        "data['Age'].fillna(data['Age'].median(), inplace=True)\n",
        "data['Embarked'].fillna(data['Embarked'].mode()[0], inplace=True)\n",
        "data.drop('Cabin', axis=1, inplace=True)\n",
        "\n",
        "# Convert categorical features to numeric\n",
        "data['Sex'] = data['Sex'].map({'male': 0, 'female': 1})\n",
        "data = pd.get_dummies(data, columns=['Embarked'], drop_first=True)\n",
        "\n",
        "# Write your code here for Box Plot for Fare by Pclass\n",
        "plt.figure()\n",
        "data.boxplot(column='Fare', by='Pclass')\n",
        "plt.title('Fare by Pclass')\n",
        "plt.suptitle('')\n",
        "plt.xlabel('Pclass')\n",
        "plt.ylabel('Fare')\n",
        "plt.show()\n"
      ]
    },
    {
      "cell_type": "code",
      "execution_count": null,
      "metadata": {
        "id": "ZfV7VnDWNcMI"
      },
      "outputs": [],
      "source": [
        "import pandas as pd\n",
        "import matplotlib.pyplot as plt\n",
        "\n",
        "# Load the Titanic dataset\n",
        "data = pd.read_csv('Titanic-Dataset.csv')\n",
        "\n",
        "# Data Cleaning\n",
        "data['Age'].fillna(data['Age'].median(), inplace=True)\n",
        "data['Embarked'].fillna(data['Embarked'].mode()[0], inplace=True)\n",
        "data.drop('Cabin', axis=1, inplace=True)\n",
        "\n",
        "# Convert categorical features to numeric\n",
        "data['Sex'] = data['Sex'].map({'male': 0, 'female': 1})\n",
        "data = pd.get_dummies(data, columns=['Embarked'], drop_first=True)\n",
        "\n",
        "# Write your code here for Box Plot for Fare by Pclass\n",
        "plt.figure()\n",
        "plt.scatter(data['Age'], data['Fare'])\n",
        "plt.title('Age vs. Fare')\n",
        "plt.xlabel('Age')\n",
        "plt.ylabel('Fare')\n",
        "plt.show()\n"
      ]
    },
    {
      "cell_type": "code",
      "execution_count": null,
      "metadata": {
        "id": "_nDa70jLNo1Q"
      },
      "outputs": [],
      "source": []
    }
  ],
  "metadata": {
    "colab": {
      "provenance": [],
      "authorship_tag": "ABX9TyOMDTFB+hCy7gLlKI3ujqnA",
      "include_colab_link": true
    },
    "kernelspec": {
      "display_name": "Python 3",
      "name": "python3"
    },
    "language_info": {
      "name": "python"
    }
  },
  "nbformat": 4,
  "nbformat_minor": 0
}